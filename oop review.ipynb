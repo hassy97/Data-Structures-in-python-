{
 "cells": [
  {
   "cell_type": "code",
   "execution_count": 1,
   "id": "32eb0edb",
   "metadata": {},
   "outputs": [],
   "source": [
    "class Point:\n",
    "    # duunder '__' functions  eg ' __init__() and  __str__()'\n",
    "    # constructor   \n",
    "    \n",
    "    def __init__(self,x = 0 ,y= 0):\n",
    "        self.x = x\n",
    "        self.y = y\n",
    "        \n",
    "#     def __init__():\n",
    "#         pass\n",
    "        \n",
    "        ## this function would change the class object into the string representation\n",
    "    def __str__(self):\n",
    "        return \"[\" + str(self.x) + \",\"+ str(self.y) +\"]\"\n",
    "    \n"
   ]
  },
  {
   "cell_type": "code",
   "execution_count": 2,
   "id": "6fcc6aef",
   "metadata": {},
   "outputs": [
    {
     "name": "stdout",
     "output_type": "stream",
     "text": [
      "p1  1\n",
      "p1 = 2\n"
     ]
    }
   ],
   "source": [
    "# create an object\n",
    "p1 = Point(1,2) # p1  is reference var\n",
    "print(\"p1 \", p1.x)\n",
    "\n",
    "# <__main__.Point at 0x206069fc880\n",
    "\n",
    "\n",
    "p2 = Point(2,4)\n",
    "\n",
    "print(\"p1 =\",p2.x)"
   ]
  },
  {
   "cell_type": "code",
   "execution_count": 3,
   "id": "ec74f82c",
   "metadata": {},
   "outputs": [
    {
     "data": {
      "text/plain": [
       "<__main__.Point at 0x28cc9b23100>"
      ]
     },
     "execution_count": 3,
     "metadata": {},
     "output_type": "execute_result"
    }
   ],
   "source": [
    "p2"
   ]
  },
  {
   "cell_type": "code",
   "execution_count": 4,
   "id": "dd0f4298",
   "metadata": {},
   "outputs": [
    {
     "name": "stdout",
     "output_type": "stream",
     "text": [
      "[2,4]\n"
     ]
    }
   ],
   "source": [
    "print(p2)"
   ]
  },
  {
   "cell_type": "markdown",
   "id": "c027e9ed",
   "metadata": {},
   "source": [
    "# Composition "
   ]
  },
  {
   "cell_type": "code",
   "execution_count": 5,
   "id": "e5dcabfb",
   "metadata": {},
   "outputs": [],
   "source": [
    "# compose the aik class ma 2sri clas k instance rakhna ha"
   ]
  },
  {
   "cell_type": "code",
   "execution_count": 6,
   "id": "6ebd9590",
   "metadata": {},
   "outputs": [],
   "source": [
    "# shape is basically a no of points\n",
    "class Shape:\n",
    "    \n",
    "    def __init__(self, points):\n",
    "        self.points = points\n",
    "        \n",
    "    def __str__(self):\n",
    "        ret = \"\"\n",
    "        \n",
    "        for i in self.points:\n",
    "            ret += str(i) +\"-\"\n",
    "        return ret"
   ]
  },
  {
   "cell_type": "code",
   "execution_count": 7,
   "id": "1857c20a",
   "metadata": {},
   "outputs": [],
   "source": [
    "p1 = Point(1, 6)\n",
    "p2 = Point(10, 5)\n",
    "p3 = Point(10 ,1)\n",
    "\n",
    "P = [p1,p2,p3]\n",
    "\n",
    "sh = Shape(P)"
   ]
  },
  {
   "cell_type": "code",
   "execution_count": 8,
   "id": "4cd3a42c",
   "metadata": {},
   "outputs": [
    {
     "name": "stdout",
     "output_type": "stream",
     "text": [
      "[1,6]-[10,5]-[10,1]-\n"
     ]
    }
   ],
   "source": [
    "print(sh)"
   ]
  },
  {
   "cell_type": "code",
   "execution_count": 9,
   "id": "baa1c2bc",
   "metadata": {},
   "outputs": [],
   "source": [
    "# to slove this we will make a string representation of class object use '__str__ fun'"
   ]
  },
  {
   "cell_type": "code",
   "execution_count": 10,
   "id": "14f166a3",
   "metadata": {},
   "outputs": [],
   "source": [
    "def print_points(self):\n",
    "    for i in self.points:\n",
    "        print(i)\n",
    "        \n",
    "Shape.print_points = print_points"
   ]
  },
  {
   "cell_type": "code",
   "execution_count": 11,
   "id": "26bcacd5",
   "metadata": {},
   "outputs": [
    {
     "name": "stdout",
     "output_type": "stream",
     "text": [
      "[1,6]\n",
      "[10,5]\n",
      "[10,1]\n"
     ]
    }
   ],
   "source": [
    "sh.print_points()"
   ]
  },
  {
   "cell_type": "markdown",
   "id": "cc03ae29",
   "metadata": {},
   "source": [
    "We can add functions in the classes at run time that is the beauty"
   ]
  },
  {
   "cell_type": "code",
   "execution_count": 12,
   "id": "50400bf1",
   "metadata": {},
   "outputs": [],
   "source": [
    "def print_awin(self):\n",
    "    print(\"hello\")\n",
    "    \n",
    "Shape.print_awin =print_awin"
   ]
  },
  {
   "cell_type": "code",
   "execution_count": 13,
   "id": "6702e73d",
   "metadata": {},
   "outputs": [
    {
     "name": "stdout",
     "output_type": "stream",
     "text": [
      "hello\n"
     ]
    }
   ],
   "source": [
    "sh.print_awin()"
   ]
  },
  {
   "cell_type": "markdown",
   "id": "b95a4dfd",
   "metadata": {},
   "source": [
    "# Inheritance "
   ]
  },
  {
   "cell_type": "code",
   "execution_count": 14,
   "id": "1e627dde",
   "metadata": {},
   "outputs": [],
   "source": [
    "class Triangle(Shape):\n",
    "    pass\n"
   ]
  },
  {
   "cell_type": "code",
   "execution_count": 15,
   "id": "0147575e",
   "metadata": {},
   "outputs": [],
   "source": [
    "t = Triangle(P)"
   ]
  },
  {
   "cell_type": "code",
   "execution_count": 17,
   "id": "09cddbd8",
   "metadata": {},
   "outputs": [
    {
     "name": "stdout",
     "output_type": "stream",
     "text": [
      "[1,6]\n",
      "[10,5]\n",
      "[10,1]\n"
     ]
    }
   ],
   "source": [
    "t.print_points()"
   ]
  },
  {
   "cell_type": "code",
   "execution_count": 18,
   "id": "e2a58587",
   "metadata": {},
   "outputs": [],
   "source": [
    "def get_Area(self):\n",
    "    vertices = self.points\n",
    "    n = len(vertices)\n",
    "    a =0.0\n",
    "    for i in range(n):\n",
    "        j = (i + 1) % n\n",
    "        a += abs(vertices[i].x *vertices[j].y - vertices[j].x * vertices[i].y)\n",
    "    return a/ 2.0\n",
    "\n",
    "Triangle.get_Area = get_Area"
   ]
  },
  {
   "cell_type": "code",
   "execution_count": 19,
   "id": "ae422669",
   "metadata": {},
   "outputs": [
    {
     "data": {
      "text/plain": [
       "77.0"
      ]
     },
     "execution_count": 19,
     "metadata": {},
     "output_type": "execute_result"
    }
   ],
   "source": [
    "t.get_Area()"
   ]
  },
  {
   "cell_type": "code",
   "execution_count": 31,
   "id": "aa9d8542",
   "metadata": {},
   "outputs": [],
   "source": [
    "# how to acces the class override funs \n",
    "\n",
    "class Rectangle:\n",
    "    \n",
    "    def __init__(self, length ,width):\n",
    "        self.length = length\n",
    "        self.width  = width\n",
    "        \n",
    "    def area(self):\n",
    "        return 2 *self.length * self.width\n",
    "    \n",
    "    def perimeter(self):\n",
    "        return 2 *self.length + 2* self.width\n",
    "    \n",
    "    def __str__(self):\n",
    "        return \" Length = \" + str(self.length) + \" Width = \"+ str(self.width)\n",
    "    "
   ]
  },
  {
   "cell_type": "code",
   "execution_count": 32,
   "id": "bd29503e",
   "metadata": {},
   "outputs": [],
   "source": [
    "rect = Rectangle(2,4)"
   ]
  },
  {
   "cell_type": "code",
   "execution_count": 33,
   "id": "8855b4a1",
   "metadata": {},
   "outputs": [
    {
     "name": "stdout",
     "output_type": "stream",
     "text": [
      " Length = 2 Width = 4\n"
     ]
    }
   ],
   "source": [
    "print(rect)"
   ]
  },
  {
   "cell_type": "code",
   "execution_count": 35,
   "id": "2d5ce275",
   "metadata": {},
   "outputs": [],
   "source": [
    "class Sqaure(Rectangle):\n",
    "    \n",
    "    def __init(self,length):\n",
    "        super().__init__(length,length)\n",
    "        \n",
    "    def __str__(self):\n",
    "        return \"Square \" +super().__str__()"
   ]
  },
  {
   "cell_type": "code",
   "execution_count": 1,
   "id": "2b7dd4d4",
   "metadata": {},
   "outputs": [],
   "source": [
    "# code to calculate the fibinacci code using the recursive \n",
    "def fib_recrs(num):\n",
    "    if num <= 1:\n",
    "        return 1\n",
    "    else:\n",
    "        return fib_recrs(num -2) + fib_recrs(num + 1)"
   ]
  },
  {
   "cell_type": "code",
   "execution_count": 2,
   "id": "99f795e1",
   "metadata": {},
   "outputs": [],
   "source": [
    "# code to calculate the fibinacci code using the recursive \n",
    "def fib_loop(num):\n",
    "    a = 1\n",
    "    b = 1\n",
    "    \n",
    "    for i in range(num):\n",
    "        a, b = b, a+b\n",
    "    return a"
   ]
  },
  {
   "cell_type": "code",
   "execution_count": null,
   "id": "77a2652d",
   "metadata": {},
   "outputs": [],
   "source": [
    "print('fib : ')\n",
    "for i in range(5):\n",
    "    print(fib_recrs(i), end=\", \")\n",
    "    \n",
    "print('\\n\\n\\n')\n",
    "\n",
    "for i in range(5):\n",
    "    print(fib_loop(i), end=\", \")"
   ]
  },
  {
   "cell_type": "code",
   "execution_count": 1,
   "id": "4eb50542",
   "metadata": {},
   "outputs": [
    {
     "name": "stdout",
     "output_type": "stream",
     "text": [
      "3000\n"
     ]
    }
   ],
   "source": [
    "import sys\n",
    "print(sys.getrecursionlimit())"
   ]
  },
  {
   "cell_type": "code",
   "execution_count": null,
   "id": "83162066",
   "metadata": {},
   "outputs": [],
   "source": []
  }
 ],
 "metadata": {
  "kernelspec": {
   "display_name": "Python 3 (ipykernel)",
   "language": "python",
   "name": "python3"
  },
  "language_info": {
   "codemirror_mode": {
    "name": "ipython",
    "version": 3
   },
   "file_extension": ".py",
   "mimetype": "text/x-python",
   "name": "python",
   "nbconvert_exporter": "python",
   "pygments_lexer": "ipython3",
   "version": "3.9.7"
  }
 },
 "nbformat": 4,
 "nbformat_minor": 5
}
