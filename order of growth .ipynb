{
 "cells": [
  {
   "cell_type": "code",
   "execution_count": 1,
   "id": "3aa2d08a",
   "metadata": {},
   "outputs": [],
   "source": [
    "# In pyhton we can add functions after we the class has been created "
   ]
  },
  {
   "cell_type": "code",
   "execution_count": 1,
   "id": "b5cb6c01",
   "metadata": {},
   "outputs": [],
   "source": [
    "class Student:\n",
    "    def _init(self):\n",
    "        pass\n",
    "    "
   ]
  },
  {
   "cell_type": "code",
   "execution_count": 2,
   "id": "b9a374c3",
   "metadata": {},
   "outputs": [],
   "source": [
    "def Display(self):\n",
    "    print('hello my name is hasy I am from student class')"
   ]
  },
  {
   "cell_type": "code",
   "execution_count": 3,
   "id": "44ae2c37",
   "metadata": {},
   "outputs": [],
   "source": [
    "s =Student()"
   ]
  },
  {
   "cell_type": "code",
   "execution_count": 4,
   "id": "b8337993",
   "metadata": {},
   "outputs": [],
   "source": [
    "Student.Display = Display"
   ]
  },
  {
   "cell_type": "code",
   "execution_count": 5,
   "id": "b6d26ec9",
   "metadata": {},
   "outputs": [
    {
     "name": "stdout",
     "output_type": "stream",
     "text": [
      "hello my name is hasy I am from student class\n"
     ]
    }
   ],
   "source": [
    "s.Display()"
   ]
  },
  {
   "cell_type": "code",
   "execution_count": 7,
   "id": "81d5eb0b",
   "metadata": {},
   "outputs": [],
   "source": [
    "# code to calculate the fibinacci code using the recursive \n",
    "def fib_recrs(num):\n",
    "    if num <= 1:\n",
    "        return 1\n",
    "    else:\n",
    "        return fib_recrs(num -2) + fib_recrs(num + 1)"
   ]
  },
  {
   "cell_type": "code",
   "execution_count": 8,
   "id": "aa6a8f96",
   "metadata": {},
   "outputs": [],
   "source": [
    "# code to calculate the fibinacci code using the recursive \n",
    "def fib_loop(num):\n",
    "    a = 1\n",
    "    b = 1\n",
    "    \n",
    "    for i in range(num):\n",
    "        a, b = b, a+b\n",
    "    return a"
   ]
  },
  {
   "cell_type": "code",
   "execution_count": 8,
   "id": "931bd0a2",
   "metadata": {},
   "outputs": [
    {
     "name": "stdout",
     "output_type": "stream",
     "text": [
      "fib : \n",
      "1, 1, \n",
      "\n",
      "\n",
      "\n",
      "1, 1, "
     ]
    }
   ],
   "source": [
    "print('fib : ')\n",
    "for i in range(2):\n",
    "    print(fib_recrs(i), end=\", \")\n",
    "    \n",
    "print('\\n\\n\\n')\n",
    "\n",
    "for i in range(2):\n",
    "    print(fib_loop(i), end=\", \")"
   ]
  },
  {
   "cell_type": "code",
   "execution_count": 9,
   "id": "26344e59",
   "metadata": {},
   "outputs": [
    {
     "name": "stdout",
     "output_type": "stream",
     "text": [
      "3000\n"
     ]
    }
   ],
   "source": [
    "# calculate the max recursion depth of the system\n",
    "\n",
    "import sys\n",
    "print(sys.getrecursionlimit())"
   ]
  },
  {
   "cell_type": "code",
   "execution_count": 4,
   "id": "bdf7cc16",
   "metadata": {},
   "outputs": [],
   "source": [
    "# %matplotlib inline '%' magic command\n",
    "# Calculate how much time take compute the fibonaccci fib_recrs & fib_loop\n",
    "\n",
    "import time\n",
    "\n",
    "def compute_time(fn, limit):\n",
    "    l = []\n",
    "    \n",
    "    for i in range(limit):\n",
    "        \n",
    "        start_time = int(round(time.time()) * 1000)\n",
    "        fn(i)\n",
    "        end_time =  int(round(time.time()) * 1000)\n",
    "        \n",
    "        time_taken = end_time - start_time\n",
    "        # add in the list\n",
    "        l.append(time_taken)\n",
    "    return l"
   ]
  },
  {
   "cell_type": "code",
   "execution_count": null,
   "id": "8945fd7e",
   "metadata": {},
   "outputs": [],
   "source": [
    "limit = 20\n",
    "fib_recrs_time = compute_time(fib_recrs,limit)\n",
    "fib_loop_time  = compute_time(fib_loop,limit)"
   ]
  },
  {
   "cell_type": "code",
   "execution_count": null,
   "id": "ef4fbd48",
   "metadata": {},
   "outputs": [],
   "source": [
    "fib_recrs_time"
   ]
  },
  {
   "cell_type": "code",
   "execution_count": 1,
   "id": "307c2063",
   "metadata": {},
   "outputs": [
    {
     "name": "stdout",
     "output_type": "stream",
     "text": [
      "3000\n"
     ]
    }
   ],
   "source": [
    "import sys\n",
    "print(sys.getrecursionlimit())"
   ]
  },
  {
   "cell_type": "code",
   "execution_count": null,
   "id": "2af2ebb2",
   "metadata": {},
   "outputs": [],
   "source": []
  }
 ],
 "metadata": {
  "kernelspec": {
   "display_name": "Python 3 (ipykernel)",
   "language": "python",
   "name": "python3"
  },
  "language_info": {
   "codemirror_mode": {
    "name": "ipython",
    "version": 3
   },
   "file_extension": ".py",
   "mimetype": "text/x-python",
   "name": "python",
   "nbconvert_exporter": "python",
   "pygments_lexer": "ipython3",
   "version": "3.9.7"
  }
 },
 "nbformat": 4,
 "nbformat_minor": 5
}
